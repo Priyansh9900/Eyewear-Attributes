{
 "cells": [
  {
   "cell_type": "code",
   "execution_count": 4,
   "id": "0d368581",
   "metadata": {},
   "outputs": [],
   "source": [
    "import tensorflow as tf\n",
    "import keras\n",
    "lens_color_model = keras.models.load_model(\"D:\\PythonFiles\\eyewear\\codes\\models\\saved models\\lens_color_model.h5\")\n",
    "frame_color_model = keras.models.load_model(\"D:\\\\PythonFiles\\\\eyewear\\\\codes\\\\models\\\\saved models\\\\frame_color_model.h5\")\n",
    "frame_shape_model = keras.models.load_model(\"D:\\\\PythonFiles\\\\eyewear\\\\codes\\\\models\\\\saved models\\\\frame_shape_model.h5\")\n",
    "frame_type_model = keras.models.load_model(\"D:\\\\PythonFiles\\\\eyewear\\\\codes\\\\models\\\\saved models\\\\frame_type_model.h5\")\n",
    "pattern_model = keras.models.load_model(\"D:\\PythonFiles\\eyewear\\codes\\models\\saved models\\pattern_model.h5\")\n",
    "sub_sub_category_L3_model = keras.models.load_model(\"D:\\PythonFiles\\eyewear\\codes\\models\\saved models\\sub_sub_category_L3_model.h5\")\n",
    "sub_category_L2_model = keras.models.load_model(\"D:\\PythonFiles\\eyewear\\codes\\models\\saved models\\sub_category_L2_model.h5\")\n",
    "category_L1_model = keras.models.load_model(\"D:\\PythonFiles\\eyewear\\codes\\models\\saved models\\category_L1_model.h5\")\n"
   ]
  },
  {
   "cell_type": "code",
   "execution_count": 5,
   "id": "22b0e514",
   "metadata": {},
   "outputs": [],
   "source": [
    "sub_category_list = ['Eyeglass Frames', 'Eyewear', 'Sunglasses']\n",
    "lens_color_list = ['Beige', 'Black', 'Blue', 'Brown', 'Clear', 'Gold', 'Green', 'Grey', 'Lavender', 'Maroon', 'Metallic', 'Multi-Color', 'Navy Blue', 'Olive', 'Orange', 'Peach', 'Pink', 'Purple', 'Red', 'Rose Gold', 'Silver', 'Turquoise', 'Violet', 'White', 'Yellow']\n",
    "sub_sub_category_list = ['Clear Eyeglasses', 'Eyeglass Frames', 'Eyewear Accessories', 'Sunglasses']\n",
    "category_list = ['Accessories']\n",
    "frame_color_list = ['Beige', 'Black', 'Blue', 'Bronze', 'Brown', 'Burgundy', 'Clear', 'Cream', 'Gold', 'Green', 'Grey', 'Maroon', 'Metallic', 'Multi-Color', 'Navy Blue', 'Nude', 'Off White', 'Olive', 'Orange', 'Peach', 'Pink', 'Purple', 'Red', 'Rose Gold', 'Silver', 'Transparent', 'Turquoise', 'Violet', 'White', 'Wine', 'Yellow']\n",
    "frame_shape_list = ['Aviator', 'Butterfly', 'Cat Eye', 'Clubmaster', 'Geometrical', 'Hexagon', 'Irregular', 'Navigator', 'Oval', 'Oversized', 'Phantos', 'Pillow', 'Pilot', 'Rectangle', 'Retro', 'Round', 'Shield', 'Sports', 'Square', 'Wayfarer', 'Wrap']\n",
    "frame_type_list = ['Full Rim', 'Half Rim', 'Rimless']\n",
    "pattern_list = ['Animal Print', 'Printed', 'Solid-plain', 'Tortoise']\n"
   ]
  },
  {
   "cell_type": "code",
   "execution_count": 33,
   "id": "fdb6d450",
   "metadata": {},
   "outputs": [],
   "source": [
    "IMAGE_PATH = \"D:\\\\PythonFiles\\\\eyewear\\\\samples\\\\test images\\\\26_8910eda5-1e1a-4a4b-9ef7-764d6584781c_900x.jpg\""
   ]
  },
  {
   "cell_type": "code",
   "execution_count": 34,
   "id": "b9a9770e",
   "metadata": {},
   "outputs": [],
   "source": [
    "import numpy as np\n",
    "import cv2\n",
    "from keras.utils import np_utils\n",
    "\n",
    "img_size = 255\n",
    "data = []\n",
    "\n",
    "\n",
    "img = cv2.imread(IMAGE_PATH)\n",
    "try:\n",
    "    resized = cv2.resize(img, (img_size, img_size))\n",
    "    # resizing the image  into 256 x 256, since we need a fixed common size for all the images in the dataset\n",
    "    data.append(resized)\n",
    "#     label.append(label_dict[category])\n",
    "    # appending the image and the label(categorized) into the list (dataset)\n",
    "except Exception as e:\n",
    "    print('Exception:', e)\n",
    "    # if any exception rasied, the exception will be printed here. And pass to the next image\n",
    "\n",
    "\n",
    "data=np.array(data)/255.0\n",
    "data=np.reshape(data,(data.shape[0],img_size,img_size,3))"
   ]
  },
  {
   "cell_type": "code",
   "execution_count": 35,
   "id": "10b265f4",
   "metadata": {},
   "outputs": [
    {
     "data": {
      "text/plain": [
       "<function matplotlib.pyplot.show(close=None, block=None)>"
      ]
     },
     "execution_count": 35,
     "metadata": {},
     "output_type": "execute_result"
    },
    {
     "data": {
      "image/png": "[encoded data removed]",
      "text/plain": [
       "<Figure size 432x288 with 1 Axes>"
      ]
     },
     "metadata": {
      "needs_background": "light"
     },
     "output_type": "display_data"
    }
   ],
   "source": [
    "import matplotlib.pyplot as plt\n",
    "plt.imshow(np.squeeze(data))\n",
    "plt.show"
   ]
  },
  {
   "cell_type": "code",
   "execution_count": 36,
   "id": "72a2dee6",
   "metadata": {},
   "outputs": [],
   "source": [
    "sub_sub_category_L3 = sub_sub_category_L3_model.predict(data)\n",
    "sub_category_L2 = sub_category_L2_model.predict(data)\n",
    "lens_color = lens_color_model.predict(data)\n",
    "category_L1 = category_L1_model.predict(data)\n",
    "frame_color = frame_color_model.predict(data)\n",
    "frame_shape = frame_shape_model.predict(data)\n",
    "frame_type = frame_type_model.predict(data)\n",
    "pattern = pattern_model.predict(data)\n"
   ]
  },
  {
   "cell_type": "code",
   "execution_count": 37,
   "id": "e8c4d5a4",
   "metadata": {},
   "outputs": [],
   "source": [
    "lens_color = lens_color_list[np.argmax(lens_color)]\n",
    "sub_category_L2 = sub_category_list[np.argmax(sub_category_L2)]\n",
    "sub_sub_category_L3 = sub_sub_category_list[np.argmax(sub_sub_category_L3)]\n",
    "category_L1 = category_list[np.argmax(category_L1)]\n",
    "frame_color =  frame_color_list[np.argmax(frame_color)]\n",
    "frame_shape =  frame_shape_list[np.argmax(frame_shape)]\n",
    "frame_type =  frame_type_list[np.argmax(frame_type)]\n",
    "pattern = pattern_list[np.argmax(pattern)]"
   ]
  },
  {
   "cell_type": "code",
   "execution_count": 38,
   "id": "7923f019",
   "metadata": {},
   "outputs": [
    {
     "name": "stdout",
     "output_type": "stream",
     "text": [
      "lens color:  Multi-Color\n",
      "farme color:  Black\n",
      "frame shape:  Cat Eye\n",
      "frame type:  Full Rim\n",
      "sub category L2:  Eyewear\n",
      "sub-sub category L3:  Sunglasses\n",
      "category L1:  Accessories\n",
      "pattern:  Solid-plain\n"
     ]
    }
   ],
   "source": [
    "print('lens color: ',lens_color)\n",
    "print('farme color: ',frame_color)\n",
    "print('frame shape: ',frame_shape)\n",
    "print('frame type: ', frame_type)\n",
    "print('sub category L2: ',sub_category_L2)\n",
    "print('sub-sub category L3: ',sub_sub_category_L3)\n",
    "print('category L1: ',category_L1)\n",
    "print('pattern: ',pattern)\n"
   ]
  },
  {
   "cell_type": "code",
   "execution_count": 39,
   "id": "3efafef7",
   "metadata": {},
   "outputs": [
    {
     "name": "stdout",
     "output_type": "stream",
     "text": [
      "Multi-Color Cat Eye Solid-plain Eyewear\n"
     ]
    }
   ],
   "source": [
    "statement = f'{lens_color} {frame_shape} {pattern} {sub_category_L2}'\n",
    "print(statement)"
   ]
  },
  {
   "cell_type": "code",
   "execution_count": 42,
   "id": "96f04cd6",
   "metadata": {},
   "outputs": [],
   "source": [
    "import csv\n",
    "import os\n",
    "\n",
    "# Define the CSV file name and headers\n",
    "csv_file = 'predictions.csv'\n",
    "headers = [ 'category_L1', 'sub_category_L2', 'sub_sub_category_L3', 'lens_color', 'frame_color', 'frame_shape', 'frame_type', 'pattern', 'filename']\n",
    "\n",
    "# Check if the CSV file exists\n",
    "if not os.path.isfile(csv_file):\n",
    "    # If the CSV file doesn't exist, create it and write the headers\n",
    "    with open(csv_file, 'w', newline='') as f:\n",
    "        writer = csv.writer(f)\n",
    "        writer.writerow(headers)\n",
    "\n",
    "# Append the predicted values to the CSV file\n",
    "with open(csv_file, 'a', newline='') as f:\n",
    "    writer = csv.writer(f)\n",
    "\n",
    "    category_L1 = category_L1\n",
    "    sub_category_L2 = sub_category_L2\n",
    "    sub_sub_category_L3 = sub_sub_category_L3\n",
    "    lens_color = lens_color\n",
    "    frame_color = frame_color\n",
    "    frame_shape = frame_shape\n",
    "    frame_type = frame_type  \n",
    "    pattern = pattern\n",
    "    filename = IMAGE_PATH\n",
    "\n",
    "    row = [ category_L1, sub_category_L2, sub_sub_category_L3, lens_color, frame_color, frame_shape, frame_type, pattern, filename]\n",
    "    writer.writerow(row)\n"
   ]
  },
  {
   "cell_type": "code",
   "execution_count": null,
   "id": "5d951c6c",
   "metadata": {},
   "outputs": [],
   "source": []
  }
 ],
 "metadata": {
  "kernelspec": {
   "display_name": "Python 3 (ipykernel)",
   "language": "python",
   "name": "python3"
  },
  "language_info": {
   "codemirror_mode": {
    "name": "ipython",
    "version": 3
   },
   "file_extension": ".py",
   "mimetype": "text/x-python",
   "name": "python",
   "nbconvert_exporter": "python",
   "pygments_lexer": "ipython3",
   "version": "3.9.6"
  }
 },
 "nbformat": 4,
 "nbformat_minor": 5
}
